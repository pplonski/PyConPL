{
 "cells": [
  {
   "cell_type": "code",
   "execution_count": 1,
   "id": "582de1b7",
   "metadata": {},
   "outputs": [],
   "source": [
    "import os\n",
    "import pickle\n",
    "import pandas as pd\n",
    "from sklearn.datasets import load_iris\n",
    "import matplotlib.pyplot as plt\n",
    "import mercury as mr"
   ]
  },
  {
   "cell_type": "code",
   "execution_count": 2,
   "id": "9bf852ae",
   "metadata": {},
   "outputs": [
    {
     "data": {
      "application/mercury+json": "{\n    \"widget\": \"App\",\n    \"title\": \"Predict iris class\",\n    \"description\": \"Predict iris class with Random Forest\",\n    \"show_code\": false,\n    \"show_prompt\": false,\n    \"output\": \"app\",\n    \"schedule\": \"\",\n    \"notify\": \"{}\",\n    \"continuous_update\": true,\n    \"static_notebook\": false,\n    \"show_sidebar\": true,\n    \"full_screen\": true,\n    \"allow_download\": true,\n    \"model_id\": \"mercury-app\",\n    \"code_uid\": \"App.0.40.24.1-rand3d3f5771\"\n}",
      "text/html": [
       "<h3>Mercury Application</h3><small>This output won't appear in the web app.</small>"
      ],
      "text/plain": [
       "mercury.App"
      ]
     },
     "metadata": {},
     "output_type": "display_data"
    }
   ],
   "source": [
    "app = mr.App(title=\"Predict iris class\", description=\"Predict iris class with Random Forest\",)"
   ]
  },
  {
   "cell_type": "code",
   "execution_count": 3,
   "id": "3623c8bc",
   "metadata": {},
   "outputs": [
    {
     "data": {
      "application/mercury+json": "{\n    \"widget\": \"Numeric\",\n    \"value\": 3.5,\n    \"min\": 1.0,\n    \"max\": 7.0,\n    \"step\": 0.1,\n    \"label\": \"Petal length\",\n    \"model_id\": \"05bfd827e23141feba322f6322907778\",\n    \"code_uid\": \"Numeric.0.40.26.1-rand3ce1f6da\",\n    \"url_key\": \"\",\n    \"disabled\": false,\n    \"hidden\": false\n}",
      "application/vnd.jupyter.widget-view+json": {
       "model_id": "05bfd827e23141feba322f6322907778",
       "version_major": 2,
       "version_minor": 0
      },
      "text/plain": [
       "mercury.Numeric"
      ]
     },
     "metadata": {},
     "output_type": "display_data"
    }
   ],
   "source": [
    "petal_length = mr.Numeric(label=\"Petal length\", min=1, max=7, value=3.5, step=0.1)"
   ]
  },
  {
   "cell_type": "code",
   "execution_count": 4,
   "id": "cd53310b",
   "metadata": {},
   "outputs": [
    {
     "data": {
      "application/mercury+json": "{\n    \"widget\": \"Numeric\",\n    \"value\": 1.2,\n    \"min\": 0.0,\n    \"max\": 2.5,\n    \"step\": 0.1,\n    \"label\": \"Petal width\",\n    \"model_id\": \"379cd0621e054213963142da1ba72448\",\n    \"code_uid\": \"Numeric.0.40.26.1-randfb985c5c\",\n    \"url_key\": \"\",\n    \"disabled\": false,\n    \"hidden\": false\n}",
      "application/vnd.jupyter.widget-view+json": {
       "model_id": "379cd0621e054213963142da1ba72448",
       "version_major": 2,
       "version_minor": 0
      },
      "text/plain": [
       "mercury.Numeric"
      ]
     },
     "metadata": {},
     "output_type": "display_data"
    }
   ],
   "source": [
    "petal_width = mr.Numeric(label=\"Petal width\", min=0, max=2.5, value=1.2, step=0.1)"
   ]
  },
  {
   "cell_type": "code",
   "execution_count": 5,
   "id": "268caa8c",
   "metadata": {},
   "outputs": [
    {
     "data": {
      "application/mercury+json": "{\n    \"widget\": \"Numeric\",\n    \"value\": 6.0,\n    \"min\": 4.0,\n    \"max\": 8.0,\n    \"step\": 0.1,\n    \"label\": \"Setal length\",\n    \"model_id\": \"18b7349a48344b9a9d7611674a26724f\",\n    \"code_uid\": \"Numeric.0.40.26.1-rand12567e7a\",\n    \"url_key\": \"\",\n    \"disabled\": false,\n    \"hidden\": false\n}",
      "application/vnd.jupyter.widget-view+json": {
       "model_id": "18b7349a48344b9a9d7611674a26724f",
       "version_major": 2,
       "version_minor": 0
      },
      "text/plain": [
       "mercury.Numeric"
      ]
     },
     "metadata": {},
     "output_type": "display_data"
    }
   ],
   "source": [
    "sepal_length = mr.Numeric(label=\"Setal length\", min=4, max=8, value=6, step=0.1)"
   ]
  },
  {
   "cell_type": "code",
   "execution_count": 6,
   "id": "fd10844c",
   "metadata": {},
   "outputs": [
    {
     "data": {
      "application/mercury+json": "{\n    \"widget\": \"Numeric\",\n    \"value\": 3.0,\n    \"min\": 2.0,\n    \"max\": 4.5,\n    \"step\": 0.1,\n    \"label\": \"Setal width\",\n    \"model_id\": \"6ea3496e37e04888b372e86b7d9b1fad\",\n    \"code_uid\": \"Numeric.0.40.26.1-rand5d91c085\",\n    \"url_key\": \"\",\n    \"disabled\": false,\n    \"hidden\": false\n}",
      "application/vnd.jupyter.widget-view+json": {
       "model_id": "6ea3496e37e04888b372e86b7d9b1fad",
       "version_major": 2,
       "version_minor": 0
      },
      "text/plain": [
       "mercury.Numeric"
      ]
     },
     "metadata": {},
     "output_type": "display_data"
    }
   ],
   "source": [
    "sepal_width = mr.Numeric(label=\"Setal width\", min=2, max=4.5, value=3, step=0.1)"
   ]
  },
  {
   "cell_type": "code",
   "execution_count": 7,
   "id": "07cc1801",
   "metadata": {},
   "outputs": [],
   "source": [
    "sample = pd.DataFrame({\"sepal length (cm)\": [sepal_length.value],\n",
    "                       \"sepal width (cm)\": [sepal_width.value],\n",
    "                       \"petal length (cm)\": [petal_length.value],\n",
    "                       \"petal width (cm)\": [petal_width.value]})"
   ]
  },
  {
   "cell_type": "code",
   "execution_count": 8,
   "id": "0b2be898",
   "metadata": {},
   "outputs": [
    {
     "data": {
      "text/html": [
       "<div>\n",
       "<style scoped>\n",
       "    .dataframe tbody tr th:only-of-type {\n",
       "        vertical-align: middle;\n",
       "    }\n",
       "\n",
       "    .dataframe tbody tr th {\n",
       "        vertical-align: top;\n",
       "    }\n",
       "\n",
       "    .dataframe thead th {\n",
       "        text-align: right;\n",
       "    }\n",
       "</style>\n",
       "<table border=\"1\" class=\"dataframe\">\n",
       "  <thead>\n",
       "    <tr style=\"text-align: right;\">\n",
       "      <th></th>\n",
       "      <th>sepal length (cm)</th>\n",
       "      <th>sepal width (cm)</th>\n",
       "      <th>petal length (cm)</th>\n",
       "      <th>petal width (cm)</th>\n",
       "    </tr>\n",
       "  </thead>\n",
       "  <tbody>\n",
       "    <tr>\n",
       "      <th>0</th>\n",
       "      <td>6.0</td>\n",
       "      <td>3.0</td>\n",
       "      <td>3.5</td>\n",
       "      <td>1.2</td>\n",
       "    </tr>\n",
       "  </tbody>\n",
       "</table>\n",
       "</div>"
      ],
      "text/plain": [
       "   sepal length (cm)  sepal width (cm)  petal length (cm)  petal width (cm)\n",
       "0                6.0               3.0                3.5               1.2"
      ]
     },
     "execution_count": 8,
     "metadata": {},
     "output_type": "execute_result"
    }
   ],
   "source": [
    "sample"
   ]
  },
  {
   "cell_type": "code",
   "execution_count": 9,
   "id": "31ab4eee",
   "metadata": {},
   "outputs": [],
   "source": [
    "X, y = load_iris(return_X_y=True, as_frame=True)"
   ]
  },
  {
   "cell_type": "code",
   "execution_count": 10,
   "id": "e6390c7d",
   "metadata": {},
   "outputs": [
    {
     "data": {
      "image/png": "[encoded data removed]",
      "text/plain": [
       "<Figure size 640x480 with 1 Axes>"
      ]
     },
     "metadata": {},
     "output_type": "display_data"
    }
   ],
   "source": [
    "for i in range(3):\n",
    "    ii = y == i\n",
    "    plt.scatter(X[\"petal length (cm)\"][ii], X[\"petal width (cm)\"][ii], label=f\"Class {i}\")\n",
    "plt.scatter(sample[\"petal length (cm)\"], sample[\"petal width (cm)\"], label=\"Class ?\", \n",
    "                marker=\"x\", color=\"black\")\n",
    "plt.xlabel(\"Petal length\")\n",
    "plt.ylabel(\"Petal width\")\n",
    "_=plt.legend()"
   ]
  },
  {
   "cell_type": "code",
   "execution_count": 15,
   "id": "e7572a44",
   "metadata": {},
   "outputs": [
    {
     "data": {
      "image/png": "[encoded data removed]",
      "text/plain": [
       "<Figure size 640x480 with 1 Axes>"
      ]
     },
     "metadata": {},
     "output_type": "display_data"
    }
   ],
   "source": [
    "for i in range(3):\n",
    "    ii = y == i\n",
    "    plt.scatter(X[\"sepal length (cm)\"][ii], X[\"sepal width (cm)\"][ii], label=f\"Class {i}\")\n",
    "plt.scatter(sample[\"sepal length (cm)\"], sample[\"sepal width (cm)\"], label=\"Class ?\", marker=\"x\", color=\"black\")\n",
    "plt.xlabel(\"Sepal length\")\n",
    "plt.ylabel(\"Sepal width\")\n",
    "_=plt.legend()"
   ]
  },
  {
   "cell_type": "code",
   "execution_count": 19,
   "id": "4e210979",
   "metadata": {},
   "outputs": [
    {
     "data": {
      "application/mercury+json": "{\n    \"widget\": \"File\",\n    \"max_file_size\": \"100MB\",\n    \"label\": \"Upload model\",\n    \"model_id\": \"cc5e904bf4dd4bc68127c9ea01bbad8a\",\n    \"code_uid\": \"File.0.40.18.1-randb1ab6a64\",\n    \"disabled\": false,\n    \"hidden\": false\n}",
      "application/vnd.jupyter.widget-view+json": {
       "model_id": "cc5e904bf4dd4bc68127c9ea01bbad8a",
       "version_major": 2,
       "version_minor": 0
      },
      "text/plain": [
       "mercury.File"
      ]
     },
     "metadata": {},
     "output_type": "display_data"
    }
   ],
   "source": [
    "model_file = mr.File(\"Upload model\")"
   ]
  },
  {
   "cell_type": "code",
   "execution_count": null,
   "id": "f0e1b5b7",
   "metadata": {},
   "outputs": [],
   "source": [
    "rf = pickle.load(open(\"random-forest.pickle\", \"rb\"))"
   ]
  },
  {
   "cell_type": "code",
   "execution_count": 20,
   "id": "eb8555cf",
   "metadata": {},
   "outputs": [],
   "source": [
    "if model_file.filepath is not None:\n",
    "    rf = pickle.load(open(model_file.filepath, \"rb\"))"
   ]
  },
  {
   "cell_type": "code",
   "execution_count": 21,
   "id": "820eda6c",
   "metadata": {},
   "outputs": [],
   "source": [
    "predicted_class = rf.predict(sample)[0]"
   ]
  },
  {
   "cell_type": "code",
   "execution_count": 22,
   "id": "cb0f2f28",
   "metadata": {},
   "outputs": [
    {
     "data": {
      "text/markdown": [
       "## Predicted class 1"
      ],
      "text/plain": [
       "<IPython.core.display.Markdown object>"
      ]
     },
     "metadata": {},
     "output_type": "display_data"
    }
   ],
   "source": [
    "mr.Markdown(f\"## Predicted class {predicted_class}\")"
   ]
  },
  {
   "cell_type": "code",
   "execution_count": null,
   "id": "54a67df5",
   "metadata": {},
   "outputs": [],
   "source": []
  }
 ],
 "metadata": {
  "kernelspec": {
   "display_name": "menv",
   "language": "python",
   "name": "menv"
  },
  "language_info": {
   "codemirror_mode": {
    "name": "ipython",
    "version": 3
   },
   "file_extension": ".py",
   "mimetype": "text/x-python",
   "name": "python",
   "nbconvert_exporter": "python",
   "pygments_lexer": "ipython3",
   "version": "3.8.10"
  }
 },
 "nbformat": 4,
 "nbformat_minor": 5
}
